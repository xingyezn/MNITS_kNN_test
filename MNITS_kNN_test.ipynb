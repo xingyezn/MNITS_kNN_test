{
 "cells": [
  {
   "cell_type": "code",
   "execution_count": 3,
   "metadata": {},
   "outputs": [],
   "source": [
    "import image2txt\n",
    "import os\n",
    "\n",
    "#picpath = 'data/pic/test/'\n",
    "#txtpath = 'data/txt/test/'\n",
    "\n",
    "picpath = 'data/pic/train/'\n",
    "txtpath = 'data/txt/train/'\n",
    "\n",
    "for i in range(10):\n",
    "    newPicPath = picpath + str(i) + '/'\n",
    "    newTxtPath = txtpath + str(i) + '/'\n",
    "    picList = os.listdir(newPicPath)\n",
    "    for picName in picList:\n",
    "        image2txt.i2t(newPicPath,newTxtPath,picName)\n"
   ]
  },
  {
   "cell_type": "code",
   "execution_count": null,
   "metadata": {},
   "outputs": [],
   "source": []
  }
 ],
 "metadata": {
  "kernelspec": {
   "display_name": "Python 3",
   "language": "python",
   "name": "python3"
  },
  "language_info": {
   "codemirror_mode": {
    "name": "ipython",
    "version": 3
   },
   "file_extension": ".py",
   "mimetype": "text/x-python",
   "name": "python",
   "nbconvert_exporter": "python",
   "pygments_lexer": "ipython3",
   "version": "3.6.5"
  }
 },
 "nbformat": 4,
 "nbformat_minor": 2
}
